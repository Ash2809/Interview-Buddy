{
 "cells": [
  {
   "cell_type": "code",
   "execution_count": 1,
   "metadata": {},
   "outputs": [],
   "source": [
    "from langgraph.graph import START, StateGraph, END\n",
    "from typing import Literal, List\n",
    "from typing_extensions import TypedDict\n",
    "import os\n",
    "from langchain_core.prompts import ChatPromptTemplate\n",
    "from dotenv import load_dotenv\n",
    "from langchain.prompts import PromptTemplate\n",
    "from langchain.chains import LLMChain\n",
    "from langchain_groq import ChatGroq\n",
    "import cv2\n",
    "from deepface import DeepFace\n",
    "import csv\n",
    "from datetime import datetime\n",
    "import json"
   ]
  },
  {
   "cell_type": "code",
   "execution_count": 8,
   "metadata": {},
   "outputs": [
    {
     "data": {
      "text/plain": [
       "'I\\'m an artificial intelligence model known as Llama. Llama stands for \"Large Language Model Meta AI.\"'"
      ]
     },
     "execution_count": 8,
     "metadata": {},
     "output_type": "execute_result"
    }
   ],
   "source": [
    "llm.invoke(\"Who are you?\").content"
   ]
  },
  {
   "cell_type": "code",
   "execution_count": 9,
   "metadata": {},
   "outputs": [],
   "source": [
    "load_dotenv()\n",
    "\n",
    "GROQ_API_KEY = os.getenv(\"GROQ_API_KEY\")\n",
    "llm = ChatGroq(model_name=\"llama-3.3-70b-versatile\", temperature=0.1, api_key=GROQ_API_KEY)"
   ]
  },
  {
   "cell_type": "code",
   "execution_count": 10,
   "metadata": {},
   "outputs": [],
   "source": [
    "class GraphState(TypedDict):\n",
    "    questions: str\n",
    "    desc: str\n",
    "    emotions: List[dict]\n",
    "    annotations: List[dict]"
   ]
  },
  {
   "cell_type": "code",
   "execution_count": 11,
   "metadata": {},
   "outputs": [],
   "source": [
    "from typing import List, TypedDict\n",
    "import cv2\n",
    "from deepface import DeepFace\n",
    "import csv\n",
    "from datetime import datetime\n",
    "\n",
    "def emotion_detection(state: GraphState):\n",
    "    cap = cv2.VideoCapture(0)\n",
    "\n",
    "    while cap.isOpened():\n",
    "        ret, frame = cap.read()\n",
    "        if ret:\n",
    "            print(\"FRAME CAPTURED SUCCESSFULLY\")\n",
    "            try:\n",
    "                result = DeepFace.analyze(frame, actions=[\"emotion\"], enforce_detection=False)\n",
    "\n",
    "                print(\"Analysis Result:\", result)\n",
    "\n",
    "                if isinstance(result, list):\n",
    "                    result = result[0]\n",
    "\n",
    "                if \"emotion\" in result:\n",
    "                    emotion = result[\"dominant_emotion\"]\n",
    "                    confidence = result[\"emotion\"][emotion]\n",
    "\n",
    "                    if confidence > 70:\n",
    "                        timestamp = datetime.now().strftime(\"%Y-%m-%d %H:%M:%S\")\n",
    "\n",
    "                        state[\"emotions\"].append({\n",
    "                            \"timestamp\": timestamp,\n",
    "                            \"emotion\": emotion,\n",
    "                            \"confidence\": confidence\n",
    "                        })\n",
    "\n",
    "                        with open(\"emotions.csv\", mode=\"a\", newline=\"\") as file:\n",
    "                            writer = csv.writer(file)\n",
    "                            writer.writerow([timestamp, emotion, confidence])\n",
    "\n",
    "                        cv2.putText(frame, f\"Emotion: {emotion} ({confidence:.2f}%)\", (10, 50), cv2.FONT_HERSHEY_SIMPLEX, 1, (0, 255, 0), 2, cv2.LINE_AA)\n",
    "\n",
    "                        if \"region\" in result:\n",
    "                            x, y, w, h = result[\"region\"][\"x\"], result[\"region\"][\"y\"], result[\"region\"][\"w\"], result[\"region\"][\"h\"]\n",
    "                            cv2.rectangle(frame, (x, y), (x + w, y + h), (0, 255, 0), 2)\n",
    "                    else:\n",
    "                        print(f\"Confidence is below 70%. Emotion: {emotion}, Confidence: {confidence:.2f}%\")\n",
    "\n",
    "                else:\n",
    "                    print(\"No emotion data found in the result.\")\n",
    "\n",
    "            except Exception as e:\n",
    "                print(f\"An exception has occurred: {e}\")\n",
    "\n",
    "            cv2.imshow(\"Emotion Recognition\", frame)\n",
    "\n",
    "        if cv2.waitKey(1) & 0xFF == ord(\"q\"):\n",
    "            break\n",
    "\n",
    "    cap.release()\n",
    "    cv2.destroyAllWindows()\n"
   ]
  },
  {
   "cell_type": "code",
   "execution_count": 12,
   "metadata": {},
   "outputs": [],
   "source": [
    "def annotations_node(state):\n",
    "    annotations = state[\"annotations\"]\n",
    "\n",
    "    for entry in state[\"emotions\"]:\n",
    "        timestamp, emotion, confidence = entry\n",
    "        annotation = {\n",
    "            \"timestamp\": timestamp,\n",
    "            \"emotion\": emotion,\n",
    "            \"confidence\": confidence,\n",
    "        }\n",
    "        annotations.append(annotation)\n",
    "    \n",
    "    with open(\"annotations.json\", \"w\") as file:\n",
    "        json.dump(annotations, file, indent=4)\n",
    "    \n",
    "    print(\"Annotations created and saved successfully.\")\n",
    "    \n",
    "    return {\"annotations\" : annotations}\n"
   ]
  },
  {
   "cell_type": "code",
   "execution_count": 14,
   "metadata": {},
   "outputs": [],
   "source": [
    "def generate_question(state : GraphState):\n",
    "    questions = state[\"questions\"]\n",
    "    desc = state[\"desc\"]\n",
    "\n",
    "    prompt = f\"\"\"\n",
    "        You are an expert interviewer tasked with creating tailored interview questions based on the provided job description. Your goal is to assess the candidate's knowledge, skills, and problem-solving abilities relevant to the role of a Machine Learning Engineer.\n",
    "\n",
    "        **Instructions:**\n",
    "        - Generate questions that are direct, specific, and aligned with the job description.\n",
    "        - Divide the questions into three levels of difficulty:\n",
    "        1. Easy: Basic concepts and introductory questions.\n",
    "        2. Medium: Practical applications and intermediate-level problems.\n",
    "        3. Hard: Advanced, analytical, and scenario-based challenges.\n",
    "        - Include a mix of theoretical, coding, and situational questions.\n",
    "        - Ensure clarity and precision in each question.\n",
    "\n",
    "        **Job Description:**\n",
    "        {desc}\n",
    "        NOTE : ONLY FORM 2 QUESTIONS IN EACH CATEGORY.\n",
    "        **Output Format:**\n",
    "        1. Easy Level:\n",
    "        - Question 1:\n",
    "        - Question 2:\n",
    "        ...\n",
    "        2. Medium Level:\n",
    "        - Question 1:\n",
    "        - Question 2:\n",
    "        ...\n",
    "        3. Hard Level:\n",
    "        - Question 1:\n",
    "        - Question 2:\n",
    "        ...\n",
    "    \"\"\"\n",
    "\n",
    "    \n",
    "    prompt_template = PromptTemplate(input_variables=[\"job_description\"], template=prompt)\n",
    "\n",
    "    chain = LLMChain(llm=llm, prompt=prompt_template)\n",
    "\n",
    "    questions = chain.run(job_description=desc)\n",
    "\n",
    "    return{\"questions\" : questions}\n",
    "\n"
   ]
  },
  {
   "cell_type": "code",
   "execution_count": 19,
   "metadata": {},
   "outputs": [
    {
     "ename": "ValueError",
     "evalue": "Found edge starting at unknown node 'emotion_detections'",
     "output_type": "error",
     "traceback": [
      "\u001b[1;31m---------------------------------------------------------------------------\u001b[0m",
      "\u001b[1;31mValueError\u001b[0m                                Traceback (most recent call last)",
      "Cell \u001b[1;32mIn[19], line 12\u001b[0m\n\u001b[0;32m      9\u001b[0m workflow\u001b[38;5;241m.\u001b[39madd_edge(\u001b[38;5;124m\"\u001b[39m\u001b[38;5;124mannotations_node\u001b[39m\u001b[38;5;124m\"\u001b[39m, \u001b[38;5;124m\"\u001b[39m\u001b[38;5;124mgenerate_question\u001b[39m\u001b[38;5;124m\"\u001b[39m)\n\u001b[0;32m     10\u001b[0m workflow\u001b[38;5;241m.\u001b[39madd_edge(\u001b[38;5;124m\"\u001b[39m\u001b[38;5;124mgenerate_question\u001b[39m\u001b[38;5;124m\"\u001b[39m, END)\n\u001b[1;32m---> 12\u001b[0m app \u001b[38;5;241m=\u001b[39m \u001b[43mworkflow\u001b[49m\u001b[38;5;241;43m.\u001b[39;49m\u001b[43mcompile\u001b[49m\u001b[43m(\u001b[49m\u001b[43m)\u001b[49m\n",
      "File \u001b[1;32mc:\\a\\envs\\interview\\lib\\site-packages\\langgraph\\graph\\state.py:515\u001b[0m, in \u001b[0;36mStateGraph.compile\u001b[1;34m(self, checkpointer, store, interrupt_before, interrupt_after, debug)\u001b[0m\n\u001b[0;32m    512\u001b[0m interrupt_after \u001b[38;5;241m=\u001b[39m interrupt_after \u001b[38;5;129;01mor\u001b[39;00m []\n\u001b[0;32m    514\u001b[0m \u001b[38;5;66;03m# validate the graph\u001b[39;00m\n\u001b[1;32m--> 515\u001b[0m \u001b[38;5;28;43mself\u001b[39;49m\u001b[38;5;241;43m.\u001b[39;49m\u001b[43mvalidate\u001b[49m\u001b[43m(\u001b[49m\n\u001b[0;32m    516\u001b[0m \u001b[43m    \u001b[49m\u001b[43minterrupt\u001b[49m\u001b[38;5;241;43m=\u001b[39;49m\u001b[43m(\u001b[49m\n\u001b[0;32m    517\u001b[0m \u001b[43m        \u001b[49m\u001b[43m(\u001b[49m\u001b[43minterrupt_before\u001b[49m\u001b[43m \u001b[49m\u001b[38;5;28;43;01mif\u001b[39;49;00m\u001b[43m \u001b[49m\u001b[43minterrupt_before\u001b[49m\u001b[43m \u001b[49m\u001b[38;5;241;43m!=\u001b[39;49m\u001b[43m \u001b[49m\u001b[38;5;124;43m\"\u001b[39;49m\u001b[38;5;124;43m*\u001b[39;49m\u001b[38;5;124;43m\"\u001b[39;49m\u001b[43m \u001b[49m\u001b[38;5;28;43;01melse\u001b[39;49;00m\u001b[43m \u001b[49m\u001b[43m[\u001b[49m\u001b[43m]\u001b[49m\u001b[43m)\u001b[49m\u001b[43m \u001b[49m\u001b[38;5;241;43m+\u001b[39;49m\u001b[43m \u001b[49m\u001b[43minterrupt_after\u001b[49m\n\u001b[0;32m    518\u001b[0m \u001b[43m        \u001b[49m\u001b[38;5;28;43;01mif\u001b[39;49;00m\u001b[43m \u001b[49m\u001b[43minterrupt_after\u001b[49m\u001b[43m \u001b[49m\u001b[38;5;241;43m!=\u001b[39;49m\u001b[43m \u001b[49m\u001b[38;5;124;43m\"\u001b[39;49m\u001b[38;5;124;43m*\u001b[39;49m\u001b[38;5;124;43m\"\u001b[39;49m\n\u001b[0;32m    519\u001b[0m \u001b[43m        \u001b[49m\u001b[38;5;28;43;01melse\u001b[39;49;00m\u001b[43m \u001b[49m\u001b[43m[\u001b[49m\u001b[43m]\u001b[49m\n\u001b[0;32m    520\u001b[0m \u001b[43m    \u001b[49m\u001b[43m)\u001b[49m\n\u001b[0;32m    521\u001b[0m \u001b[43m\u001b[49m\u001b[43m)\u001b[49m\n\u001b[0;32m    523\u001b[0m \u001b[38;5;66;03m# prepare output channels\u001b[39;00m\n\u001b[0;32m    524\u001b[0m output_channels \u001b[38;5;241m=\u001b[39m (\n\u001b[0;32m    525\u001b[0m     \u001b[38;5;124m\"\u001b[39m\u001b[38;5;124m__root__\u001b[39m\u001b[38;5;124m\"\u001b[39m\n\u001b[0;32m    526\u001b[0m     \u001b[38;5;28;01mif\u001b[39;00m \u001b[38;5;28mlen\u001b[39m(\u001b[38;5;28mself\u001b[39m\u001b[38;5;241m.\u001b[39mschemas[\u001b[38;5;28mself\u001b[39m\u001b[38;5;241m.\u001b[39moutput]) \u001b[38;5;241m==\u001b[39m \u001b[38;5;241m1\u001b[39m\n\u001b[1;32m   (...)\u001b[0m\n\u001b[0;32m    532\u001b[0m     ]\n\u001b[0;32m    533\u001b[0m )\n",
      "File \u001b[1;32mc:\\a\\envs\\interview\\lib\\site-packages\\langgraph\\graph\\graph.py:375\u001b[0m, in \u001b[0;36mGraph.validate\u001b[1;34m(self, interrupt)\u001b[0m\n\u001b[0;32m    373\u001b[0m \u001b[38;5;28;01mfor\u001b[39;00m source \u001b[38;5;129;01min\u001b[39;00m all_sources:\n\u001b[0;32m    374\u001b[0m     \u001b[38;5;28;01mif\u001b[39;00m source \u001b[38;5;129;01mnot\u001b[39;00m \u001b[38;5;129;01min\u001b[39;00m \u001b[38;5;28mself\u001b[39m\u001b[38;5;241m.\u001b[39mnodes \u001b[38;5;129;01mand\u001b[39;00m source \u001b[38;5;241m!=\u001b[39m START:\n\u001b[1;32m--> 375\u001b[0m         \u001b[38;5;28;01mraise\u001b[39;00m \u001b[38;5;167;01mValueError\u001b[39;00m(\u001b[38;5;124mf\u001b[39m\u001b[38;5;124m\"\u001b[39m\u001b[38;5;124mFound edge starting at unknown node \u001b[39m\u001b[38;5;124m'\u001b[39m\u001b[38;5;132;01m{\u001b[39;00msource\u001b[38;5;132;01m}\u001b[39;00m\u001b[38;5;124m'\u001b[39m\u001b[38;5;124m\"\u001b[39m)\n\u001b[0;32m    377\u001b[0m \u001b[38;5;28;01mif\u001b[39;00m START \u001b[38;5;129;01mnot\u001b[39;00m \u001b[38;5;129;01min\u001b[39;00m all_sources:\n\u001b[0;32m    378\u001b[0m     \u001b[38;5;28;01mraise\u001b[39;00m \u001b[38;5;167;01mValueError\u001b[39;00m(\n\u001b[0;32m    379\u001b[0m         \u001b[38;5;124m\"\u001b[39m\u001b[38;5;124mGraph must have an entrypoint: add at least one edge from START to another node\u001b[39m\u001b[38;5;124m\"\u001b[39m\n\u001b[0;32m    380\u001b[0m     )\n",
      "\u001b[1;31mValueError\u001b[0m: Found edge starting at unknown node 'emotion_detections'"
     ]
    }
   ],
   "source": [
    "workflow = StateGraph(GraphState)\n",
    "\n",
    "workflow.add_node(\"emotions_detections\", emotion_detection)\n",
    "workflow.add_node(\"annotations_node\", annotations_node)\n",
    "workflow.add_node(\"generate_question\", generate_question)\n",
    "\n",
    "workflow.add_edge(START, \"emotion_detections\")\n",
    "workflow.add_edge(\"emotion_detections\", \"annotations_node\")\n",
    "workflow.add_edge(\"annotations_node\", \"generate_question\")\n",
    "workflow.add_edge(\"generate_question\", END)\n",
    "\n",
    "app = workflow.compile()"
   ]
  },
  {
   "cell_type": "code",
   "execution_count": null,
   "metadata": {},
   "outputs": [],
   "source": []
  }
 ],
 "metadata": {
  "kernelspec": {
   "display_name": "interview",
   "language": "python",
   "name": "python3"
  },
  "language_info": {
   "codemirror_mode": {
    "name": "ipython",
    "version": 3
   },
   "file_extension": ".py",
   "mimetype": "text/x-python",
   "name": "python",
   "nbconvert_exporter": "python",
   "pygments_lexer": "ipython3",
   "version": "3.10.16"
  }
 },
 "nbformat": 4,
 "nbformat_minor": 2
}
