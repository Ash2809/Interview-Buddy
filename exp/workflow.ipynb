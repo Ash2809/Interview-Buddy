{
 "cells": [
  {
   "cell_type": "code",
   "execution_count": 9,
   "metadata": {},
   "outputs": [],
   "source": [
    "from langgraph.graph import START, StateGraph, END\n",
    "from typing import Literal, List\n",
    "from typing_extensions import TypedDict\n",
    "import os\n",
    "from langchain_core.prompts import ChatPromptTemplate\n",
    "from dotenv import load_dotenv\n",
    "from langchain.prompts import PromptTemplate\n",
    "from langchain.chains import LLMChain\n",
    "from langchain_groq import ChatGroq\n",
    "import cv2\n",
    "from deepface import DeepFace\n",
    "import csv\n",
    "from datetime import datetime\n",
    "import json"
   ]
  },
  {
   "cell_type": "code",
   "execution_count": 4,
   "metadata": {},
   "outputs": [],
   "source": [
    "load_dotenv()\n",
    "\n",
    "GROQ_API_KEY = os.getenv(\"GROQ_API_KEY\")\n",
    "llm = ChatGroq(model_name=\"llama-3.3-70b-versatile\", temperature=0.1, api_key=GROQ_API_KEY)"
   ]
  },
  {
   "cell_type": "code",
   "execution_count": 7,
   "metadata": {},
   "outputs": [],
   "source": [
    "class GraphState(TypedDict):\n",
    "    questions: str\n",
    "    desc: str\n",
    "    emotions: List[dict]\n",
    "    annotations: List[dict]"
   ]
  },
  {
   "cell_type": "code",
   "execution_count": 8,
   "metadata": {},
   "outputs": [],
   "source": [
    "from typing import List, TypedDict\n",
    "import cv2\n",
    "from deepface import DeepFace\n",
    "import csv\n",
    "from datetime import datetime\n",
    "\n",
    "def emotion_detection(state: GraphState):\n",
    "    cap = cv2.VideoCapture(0)\n",
    "\n",
    "    while cap.isOpened():\n",
    "        ret, frame = cap.read()\n",
    "        if ret:\n",
    "            print(\"FRAME CAPTURED SUCCESSFULLY\")\n",
    "            try:\n",
    "                result = DeepFace.analyze(frame, actions=[\"emotion\"], enforce_detection=False)\n",
    "\n",
    "                print(\"Analysis Result:\", result)\n",
    "\n",
    "                if isinstance(result, list):\n",
    "                    result = result[0]\n",
    "\n",
    "                if \"emotion\" in result:\n",
    "                    emotion = result[\"dominant_emotion\"]\n",
    "                    confidence = result[\"emotion\"][emotion]\n",
    "\n",
    "                    if confidence > 70:\n",
    "                        timestamp = datetime.now().strftime(\"%Y-%m-%d %H:%M:%S\")\n",
    "\n",
    "                        state[\"emotions\"].append({\n",
    "                            \"timestamp\": timestamp,\n",
    "                            \"emotion\": emotion,\n",
    "                            \"confidence\": confidence\n",
    "                        })\n",
    "\n",
    "                        with open(\"emotions.csv\", mode=\"a\", newline=\"\") as file:\n",
    "                            writer = csv.writer(file)\n",
    "                            writer.writerow([timestamp, emotion, confidence])\n",
    "\n",
    "                        cv2.putText(frame, f\"Emotion: {emotion} ({confidence:.2f}%)\", (10, 50), cv2.FONT_HERSHEY_SIMPLEX, 1, (0, 255, 0), 2, cv2.LINE_AA)\n",
    "\n",
    "                        if \"region\" in result:\n",
    "                            x, y, w, h = result[\"region\"][\"x\"], result[\"region\"][\"y\"], result[\"region\"][\"w\"], result[\"region\"][\"h\"]\n",
    "                            cv2.rectangle(frame, (x, y), (x + w, y + h), (0, 255, 0), 2)\n",
    "                    else:\n",
    "                        print(f\"Confidence is below 70%. Emotion: {emotion}, Confidence: {confidence:.2f}%\")\n",
    "\n",
    "                else:\n",
    "                    print(\"No emotion data found in the result.\")\n",
    "\n",
    "            except Exception as e:\n",
    "                print(f\"An exception has occurred: {e}\")\n",
    "\n",
    "            cv2.imshow(\"Emotion Recognition\", frame)\n",
    "\n",
    "        if cv2.waitKey(1) & 0xFF == ord(\"q\"):\n",
    "            break\n",
    "\n",
    "    cap.release()\n",
    "    cv2.destroyAllWindows()\n"
   ]
  },
  {
   "cell_type": "code",
   "execution_count": null,
   "metadata": {},
   "outputs": [],
   "source": [
    "def annotations_node(state):\n",
    "    annotations = state[\"annotations\"]\n",
    "\n",
    "    for entry in state[\"emotions\"]:\n",
    "        timestamp, emotion, confidence = entry\n",
    "        annotation = {\n",
    "            \"timestamp\": timestamp,\n",
    "            \"emotion\": emotion,\n",
    "            \"confidence\": confidence,\n",
    "        }\n",
    "        annotations.append(annotation)\n",
    "    \n",
    "    with open(\"annotations.json\", \"w\") as file:\n",
    "        json.dump(annotations, file, indent=4)\n",
    "    \n",
    "    print(\"Annotations created and saved successfully.\")\n",
    "    \n",
    "    return {\"annotations\" : annotations}\n"
   ]
  },
  {
   "cell_type": "code",
   "execution_count": null,
   "metadata": {},
   "outputs": [],
   "source": [
    "def generate_question(state : GraphState):\n",
    "    p"
   ]
  }
 ],
 "metadata": {
  "kernelspec": {
   "display_name": "interview",
   "language": "python",
   "name": "python3"
  },
  "language_info": {
   "codemirror_mode": {
    "name": "ipython",
    "version": 3
   },
   "file_extension": ".py",
   "mimetype": "text/x-python",
   "name": "python",
   "nbconvert_exporter": "python",
   "pygments_lexer": "ipython3",
   "version": "3.10.16"
  }
 },
 "nbformat": 4,
 "nbformat_minor": 2
}
