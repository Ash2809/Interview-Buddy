{
 "cells": [
  {
   "cell_type": "code",
   "execution_count": 9,
   "metadata": {},
   "outputs": [],
   "source": [
    "from langchain_core.prompts import ChatPromptTemplate\n",
    "from langchain_groq import ChatGroq\n",
    "import os\n",
    "from dotenv import load_dotenv\n",
    "from langchain.prompts import PromptTemplate\n",
    "from langchain.chains import LLMChain"
   ]
  },
  {
   "cell_type": "code",
   "execution_count": 2,
   "metadata": {},
   "outputs": [],
   "source": [
    "load_dotenv()\n",
    "GROQ_API_KEY = os.getenv(\"GROQ_API_KEY\")\n",
    "llm = ChatGroq(model_name=\"llama-3.3-70b-versatile\", temperature=0.1, api_key=GROQ_API_KEY)"
   ]
  },
  {
   "cell_type": "code",
   "execution_count": 9,
   "metadata": {},
   "outputs": [
    {
     "data": {
      "text/plain": [
       "'The term \"mule\" can have different meanings depending on the context. Here are a few possible interpretations:\\n\\n1. **Animal**: A mule is the offspring of a male donkey (a jack) and a female horse (a mare). Mules are known for their strength, endurance, and intelligence, and are often used as pack animals or for riding.\\n2. **Footwear**: A mule is a type of shoe that has no back or heel strap, similar to a slipper or a loafer. Mule shoes are often worn casually or for dressy occasions.\\n3. **Transportation**: In some cases, a mule can refer to a vehicle or a device used for transportation, such as a mule train (a group of pack animals) or a mule cart (a cart pulled by a mule).\\n4. **Hybrid**: In a broader sense, a mule can refer to anything that is a hybrid or a combination of two different things, such as a mule deer (a hybrid of a deer and a mule) or a mule sheep (a hybrid of a sheep and a mule).\\n5. **Idiomatic expression**: In some cases, the term \"mule\" can be used as an idiomatic expression, such as \"stubborn as a mule,\" which means being very stubborn or uncooperative.\\n6. **Software**: In software development, a mule can refer to a hybrid application or a framework that combines different technologies or programming languages.\\n7. **Cocktail**: A mule is also the name of a popular cocktail made with ginger beer, vodka, and lime juice, served in a copper mug.\\n\\nOverall, the meaning of \"mule\" depends on the context in which it is used.'"
      ]
     },
     "execution_count": 9,
     "metadata": {},
     "output_type": "execute_result"
    }
   ],
   "source": [
    "llm.invoke(\"what is meaning of Mule\").content"
   ]
  },
  {
   "cell_type": "code",
   "execution_count": 12,
   "metadata": {},
   "outputs": [],
   "source": [
    "desc = \"\"\"Sample machine learning engineer job description \n",
    "[Company X] is looking for a machine learning engineer to build efficient, data-driven artificial intelligence systems that advance our predictive automation capabilities. The candidate should be highly skilled in statistics and programming, with the ability to confidently assess, analyze, and organize large amounts of data. The candidate should also be able to execute tests and optimize [Company X]’s machine learning models and algorithms.\n",
    "\n",
    "Objectives of this role\n",
    "Design and develop machine learning algorithms and deep learning applications and systems for [Company X]\n",
    "\n",
    "Solve complex problems with multilayered data sets, and optimize existing machine learning libraries and frameworks \n",
    "\n",
    "Collaborate with data scientists, administrators, data analysts, data engineers, and data architects on production systems and applications   \n",
    "\n",
    "Identify differences in data distribution that could potentially affect model performance in real-world applications\n",
    "\n",
    "Ensure algorithms generate accurate user recommendations\n",
    "\n",
    "Stay up to date with developments in the machine learning industry\n",
    "\n",
    "Responsibilities\n",
    "Study and transform data science prototypes and apply appropriate machine learning algorithms and tools \n",
    "\n",
    "Run machine learning tests and experiments, and document findings and results \n",
    "\n",
    "Train, retrain, and monitor machine learning systems and models as needed \n",
    "\n",
    "Construct optimized data pipelines to feed machine learning models\n",
    "\n",
    "Consult with managers to determine and refine machine learning objectives \n",
    "\n",
    "Extend existing machine learning libraries and frameworks \n",
    "Skills and qualifications\n",
    "Impeccable analytical and problem-solving skills \n",
    "\n",
    "Extensive math and computer skills, with a deep understanding of probability, statistics, and algorithms \n",
    "\n",
    "In-depth knowledge of machine learning frameworks, like Keras or PyTorch\n",
    "\n",
    "Familiarity with data structures, data modeling, and software architecture \n",
    "\n",
    "Excellent time management and organizational skills\n",
    "\n",
    "Desire to learn\n",
    "\n",
    "Preferred qualifications\n",
    "Proven experience as a machine learning engineer or similar role \n",
    "\n",
    "Familiarity with Python, Java, and R \n",
    "\n",
    "Excellent communication and collaboration skills\n",
    "\n",
    "Innovative mind with a passion for continuous learning \n",
    "\n",
    "General knowledge of building machine learning systems \n",
    "\n",
    "Bachelor’s degree (or equivalent) in computer science, mathematics, or related field\"\"\"\n",
    "\n",
    "\n",
    "prompt = f\"\"\"\n",
    "You are an expert interviewer tasked with creating tailored interview questions based on the provided job description. Your goal is to assess the candidate's knowledge, skills, and problem-solving abilities relevant to the role of a Machine Learning Engineer.\n",
    "\n",
    "**Instructions:**\n",
    "- Generate questions that are direct, specific, and aligned with the job description.\n",
    "- Divide the questions into three levels of difficulty:\n",
    "  1. Easy: Basic concepts and introductory questions.\n",
    "  2. Medium: Practical applications and intermediate-level problems.\n",
    "  3. Hard: Advanced, analytical, and scenario-based challenges.\n",
    "- Include a mix of theoretical, coding, and situational questions.\n",
    "- Ensure clarity and precision in each question.\n",
    "\n",
    "**Job Description:**\n",
    "{desc}\n",
    "NOTE : ONLY FORM 2 QUESTIONS IN EACH CATEGORY.\n",
    "**Output Format:**\n",
    "1. Easy Level:\n",
    "   - Question 1:\n",
    "   - Question 2:\n",
    "   ...\n",
    "2. Medium Level:\n",
    "   - Question 1:\n",
    "   - Question 2:\n",
    "   ...\n",
    "3. Hard Level:\n",
    "   - Question 1:\n",
    "   - Question 2:\n",
    "   ...\n",
    "\"\"\"\n",
    "\n"
   ]
  },
  {
   "cell_type": "code",
   "execution_count": 13,
   "metadata": {},
   "outputs": [
    {
     "name": "stdout",
     "output_type": "stream",
     "text": [
      "Generated questions saved to 'generated_questions.txt'.\n"
     ]
    }
   ],
   "source": [
    "prompt_template = PromptTemplate(input_variables=[\"job_description\"], template=prompt)\n",
    "\n",
    "chain = LLMChain(llm=llm, prompt=prompt_template)\n",
    "\n",
    "questions = chain.run(job_description=desc)\n",
    "\n",
    "with open(\"generated_questions.txt\", \"w\") as f:\n",
    "    f.write(questions)\n",
    "\n",
    "print(\"Generated questions saved to 'generated_questions.txt'.\")"
   ]
  },
  {
   "cell_type": "code",
   "execution_count": null,
   "metadata": {},
   "outputs": [],
   "source": []
  }
 ],
 "metadata": {
  "kernelspec": {
   "display_name": "interview",
   "language": "python",
   "name": "python3"
  },
  "language_info": {
   "codemirror_mode": {
    "name": "ipython",
    "version": 3
   },
   "file_extension": ".py",
   "mimetype": "text/x-python",
   "name": "python",
   "nbconvert_exporter": "python",
   "pygments_lexer": "ipython3",
   "version": "3.10.16"
  }
 },
 "nbformat": 4,
 "nbformat_minor": 2
}
